{
 "cells": [
  {
   "attachments": {},
   "cell_type": "markdown",
   "metadata": {},
   "source": [
    "# Data Preperation\n",
    "This is a script that help to prepare your files for training, validation and testing. \n",
    "Your data folder should follow the structure below in order to be compatiable with this script. Please go to README for further details.\n",
    "\n",
    "## Input arguments\n",
    "- `dataset_path`: root path of your dataset. Be aware this is one layer above your dataset directory.\n",
    "- `dataset_name`: folder name or your dataset.\n",
    "- `seed_num`: this is a seed for random.seed()\n",
    "- `split_ratio`: this is the ratio between (train:val:test). \n",
    "\n",
    "> NOTE: you should fix your dataset when developing hyperparameters."
   ]
  },
  {
   "cell_type": "code",
   "execution_count": 3,
   "metadata": {},
   "outputs": [],
   "source": [
    "import detectron2\n",
    "import os, json, cv2, random, shutil\n",
    "# import helper functions\n",
    "from detectron2.utils.visualizer import Visualizer\n",
    "from detectron2.data import MetadataCatalog, DatasetCatalog\n",
    "import helper as h\n",
    "import matplotlib.pyplot as plt"
   ]
  },
  {
   "cell_type": "code",
   "execution_count": 6,
   "metadata": {},
   "outputs": [
    {
     "name": "stdout",
     "output_type": "stream",
     "text": [
      "Setting data to\n",
      "img dir =  ../../google-drive/stomata100/images\n",
      "label file =  ../../google-drive/stomata100/labels/labels.json\n",
      "set [train:val:test] to [80:10:10]\n",
      "Data preperation complete......\n"
     ]
    }
   ],
   "source": [
    "# Input Arguments\n",
    "dataset_path = \"../../google-drive/\"   # root directory of project data\n",
    "dataset_name = \"stomata100\" # name of the dataset    \n",
    "seed_num = 28825252\n",
    "split_ratio = [8,1,1] # The ratio stands for train:val:test\n",
    "\n",
    "# setting variables\n",
    "img_dir = os.path.join(dataset_path, dataset_name, \"images\")\n",
    "label_filename = os.path.join(dataset_path, dataset_name, \"labels\", \"labels.json\")\n",
    "print(\"Setting data to\")\n",
    "print(\"img dir = \", img_dir)\n",
    "print(\"label file = \", label_filename)\n",
    "\n",
    "# get annotations that is ready for detection training and drawing\n",
    "label_dicts = h.get_detectron2_dicts_abrc(img_dir, label_filename)\n",
    "\n",
    "# shuffle, split and save datas and labels\n",
    "random.seed(seed_num)\n",
    "random.shuffle(label_dicts)\n",
    "label_cat = h.split_dataset(label_dicts, split_ratio)\n",
    "h.save_ext_dataset(dataset_name, dataset_path, label_cat)\n",
    "\n",
    "print(\"Data preperation complete......\")\n"
   ]
  }
 ],
 "metadata": {
  "kernelspec": {
   "display_name": "Python 3",
   "language": "python",
   "name": "python3"
  },
  "language_info": {
   "codemirror_mode": {
    "name": "ipython",
    "version": 3
   },
   "file_extension": ".py",
   "mimetype": "text/x-python",
   "name": "python",
   "nbconvert_exporter": "python",
   "pygments_lexer": "ipython3",
   "version": "3.9.16"
  },
  "orig_nbformat": 4,
  "vscode": {
   "interpreter": {
    "hash": "82676d4dc7f221ba7a734b789eff60e1c6c9df8f7c1a83b2647a0adf34a2ca01"
   }
  }
 },
 "nbformat": 4,
 "nbformat_minor": 2
}
