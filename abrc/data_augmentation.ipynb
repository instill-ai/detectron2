{
 "cells": [
  {
   "attachments": {},
   "cell_type": "markdown",
   "metadata": {},
   "source": [
    "# Data Augmentation (optional)\n",
    "\n",
    "Before feeding your data to the model during training, you can augment your dataset to improve data quality and diversity. Since the number of labelled stomata data is limited, it is possible to cause overfitting. Using correct data augmentation tricks may significantly improve model performance.\n",
    "\n",
    "> NOTE:\\\n",
    "> We don't train models from scratch. Data augmentation, therefore, may not be that important. So don't worry if you don't see much of improvement after applying data augmentation.\n",
    "\n",
    "There are many ways to augmentation in computer vision and instance segmentation. Below are some examples:\n",
    "\n",
    "- [How to do agumetnation for instance segmentation](https://www.kaggle.com/code/blondinka/how-to-do-augmentations-for-instance-segmentation)\n",
    "- [Complete guide to data augmentation for computer vision](https://towardsdatascience.com/complete-guide-to-data-augmentation-for-computer-vision-1abe4063ad07)\n",
    "- [Image data augmentation for computer vision](https://viso.ai/computer-vision/image-data-augmentation-for-computer-vision/#:~:text=Computer%20Vision%20Teams-,What%20Is%20Data%20Augmentation%3F,using%20label%2Dpreserving%20data%20transformations.)"
   ]
  },
  {
   "cell_type": "code",
   "execution_count": null,
   "metadata": {},
   "outputs": [],
   "source": [
    "import detectron2\n",
    "import os, json, random, shutil\n",
    "# import helper functions\n",
    "import helper as h"
   ]
  },
  {
   "attachments": {},
   "cell_type": "markdown",
   "metadata": {},
   "source": [
    "## To add below augmentation for instance segmentation on stomata\n",
    "\n",
    "1. color distortion (color tone and reverse)\n",
    "2. blurring with kernel filters\n",
    "3. rotation\n",
    "4. adjust image contrast (high and low)\n",
    "5. add random noise"
   ]
  },
  {
   "cell_type": "code",
   "execution_count": null,
   "metadata": {},
   "outputs": [],
   "source": [
    "# TO add below augmetation for stomata\n",
    "#"
   ]
  }
 ],
 "metadata": {
  "kernelspec": {
   "display_name": "Python 3",
   "language": "python",
   "name": "python3"
  },
  "language_info": {
   "name": "python",
   "version": "3.9.6"
  },
  "orig_nbformat": 4,
  "vscode": {
   "interpreter": {
    "hash": "31f2aee4e71d21fbe5cf8b01ff0e069b9275f58929596ceb00d14d90e3e16cd6"
   }
  }
 },
 "nbformat": 4,
 "nbformat_minor": 2
}
